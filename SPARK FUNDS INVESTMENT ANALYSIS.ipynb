{
 "cells": [
  {
   "cell_type": "code",
   "execution_count": 403,
   "id": "63fed387",
   "metadata": {},
   "outputs": [],
   "source": [
    "import pandas as pd\n",
    "import numpy as np\n",
    "import matplotlib.pyplot as plt\n",
    "import seaborn as sns\n",
    "import scipy.stats as stats\n"
   ]
  },
  {
   "cell_type": "code",
   "execution_count": 442,
   "id": "15edb3bb",
   "metadata": {},
   "outputs": [],
   "source": [
    "companies = pd.read_csv(\"C:/Users/swath/Downloads/companies.csv\", encoding ='palmos' )\n"
   ]
  },
  {
   "cell_type": "code",
   "execution_count": 443,
   "id": "9494e773",
   "metadata": {},
   "outputs": [],
   "source": [
    "rounds = pd.read_csv(\"C:/Users/swath/Downloads/rounds2.csv\",encoding ='palmos')\n"
   ]
  },
  {
   "cell_type": "markdown",
   "id": "470cdf5c",
   "metadata": {},
   "source": [
    "# Check for null values"
   ]
  },
  {
   "cell_type": "code",
   "execution_count": 444,
   "id": "599ea235",
   "metadata": {},
   "outputs": [
    {
     "name": "stdout",
     "output_type": "stream",
     "text": [
      "total null values in the companies[permalink] column is  0\n"
     ]
    }
   ],
   "source": [
    "print('total null values in the companies[permalink] column is ', companies['permalink'].isnull().sum())"
   ]
  },
  {
   "cell_type": "code",
   "execution_count": 445,
   "id": "6236e6aa",
   "metadata": {},
   "outputs": [
    {
     "name": "stdout",
     "output_type": "stream",
     "text": [
      "total null values in the rounds[company_permalink] column is  0\n"
     ]
    }
   ],
   "source": [
    "print('total null values in the rounds[company_permalink] column is ', rounds['company_permalink'].isnull().sum())"
   ]
  },
  {
   "cell_type": "markdown",
   "id": "f57ad16a",
   "metadata": {},
   "source": [
    "# Check for unique values in both the data sets"
   ]
  },
  {
   "cell_type": "code",
   "execution_count": 438,
   "id": "cf316f8f",
   "metadata": {},
   "outputs": [
    {
     "data": {
      "text/plain": [
       "66368"
      ]
     },
     "execution_count": 438,
     "metadata": {},
     "output_type": "execute_result"
    }
   ],
   "source": [
    "companies['permalink']= companies['permalink'].str.lower()\n",
    "companies['permalink'].nunique()"
   ]
  },
  {
   "cell_type": "code",
   "execution_count": 446,
   "id": "f46ea52f",
   "metadata": {},
   "outputs": [
    {
     "data": {
      "text/plain": [
       "66368"
      ]
     },
     "execution_count": 446,
     "metadata": {},
     "output_type": "execute_result"
    }
   ],
   "source": [
    "rounds['company_permalink']= rounds['company_permalink'].str.lower()\n",
    "rounds['company_permalink'].nunique()\n"
   ]
  },
  {
   "cell_type": "code",
   "execution_count": 447,
   "id": "d97d073c",
   "metadata": {},
   "outputs": [
    {
     "data": {
      "text/plain": [
       "0                                       /organization/-fame\n",
       "1                                    /organization/-qounter\n",
       "2                                    /organization/-qounter\n",
       "3                       /organization/-the-one-of-them-inc-\n",
       "4                                     /organization/0-6-com\n",
       "                                ...                        \n",
       "114944                            /organization/zzzzapp-com\n",
       "114945                            /organization/zzzzapp-com\n",
       "114946                                 /organization/ãeron\n",
       "114947                               /organization/ã”asys-2\n",
       "114948    /organization/ä°novatiff-reklam-ve-tanä±tä±m-h...\n",
       "Name: company_permalink, Length: 114949, dtype: object"
      ]
     },
     "execution_count": 447,
     "metadata": {},
     "output_type": "execute_result"
    }
   ],
   "source": [
    "rounds['company_permalink'].str.lower()"
   ]
  },
  {
   "cell_type": "code",
   "execution_count": 440,
   "id": "952b830d",
   "metadata": {},
   "outputs": [
    {
     "data": {
      "text/html": [
       "<div>\n",
       "<style scoped>\n",
       "    .dataframe tbody tr th:only-of-type {\n",
       "        vertical-align: middle;\n",
       "    }\n",
       "\n",
       "    .dataframe tbody tr th {\n",
       "        vertical-align: top;\n",
       "    }\n",
       "\n",
       "    .dataframe thead th {\n",
       "        text-align: right;\n",
       "    }\n",
       "</style>\n",
       "<table border=\"1\" class=\"dataframe\">\n",
       "  <thead>\n",
       "    <tr style=\"text-align: right;\">\n",
       "      <th></th>\n",
       "      <th>permalink</th>\n",
       "      <th>name</th>\n",
       "      <th>homepage_url</th>\n",
       "      <th>category_list</th>\n",
       "      <th>status</th>\n",
       "      <th>country_code</th>\n",
       "      <th>state_code</th>\n",
       "      <th>region</th>\n",
       "      <th>city</th>\n",
       "      <th>founded_at</th>\n",
       "      <th>funding_round_permalink</th>\n",
       "      <th>funding_round_type</th>\n",
       "      <th>funding_round_code</th>\n",
       "      <th>funded_at</th>\n",
       "      <th>raised_amount_usd</th>\n",
       "    </tr>\n",
       "  </thead>\n",
       "  <tbody>\n",
       "    <tr>\n",
       "      <th>0</th>\n",
       "      <td>/organization/-fame</td>\n",
       "      <td>#fame</td>\n",
       "      <td>http://livfame.com</td>\n",
       "      <td>Media</td>\n",
       "      <td>operating</td>\n",
       "      <td>IND</td>\n",
       "      <td>16</td>\n",
       "      <td>Mumbai</td>\n",
       "      <td>Mumbai</td>\n",
       "      <td>NaN</td>\n",
       "      <td>/funding-round/9a01d05418af9f794eebff7ace91f638</td>\n",
       "      <td>venture</td>\n",
       "      <td>B</td>\n",
       "      <td>05-01-2015</td>\n",
       "      <td>10000000.0</td>\n",
       "    </tr>\n",
       "    <tr>\n",
       "      <th>1</th>\n",
       "      <td>/organization/-qounter</td>\n",
       "      <td>:Qounter</td>\n",
       "      <td>http://www.qounter.com</td>\n",
       "      <td>Application Platforms|Real Time|Social Network...</td>\n",
       "      <td>operating</td>\n",
       "      <td>USA</td>\n",
       "      <td>DE</td>\n",
       "      <td>DE - Other</td>\n",
       "      <td>Delaware City</td>\n",
       "      <td>04-09-2014</td>\n",
       "      <td>/funding-round/22dacff496eb7acb2b901dec1dfe5633</td>\n",
       "      <td>venture</td>\n",
       "      <td>A</td>\n",
       "      <td>14-10-2014</td>\n",
       "      <td>NaN</td>\n",
       "    </tr>\n",
       "    <tr>\n",
       "      <th>2</th>\n",
       "      <td>/organization/-qounter</td>\n",
       "      <td>:Qounter</td>\n",
       "      <td>http://www.qounter.com</td>\n",
       "      <td>Application Platforms|Real Time|Social Network...</td>\n",
       "      <td>operating</td>\n",
       "      <td>USA</td>\n",
       "      <td>DE</td>\n",
       "      <td>DE - Other</td>\n",
       "      <td>Delaware City</td>\n",
       "      <td>04-09-2014</td>\n",
       "      <td>/funding-round/b44fbb94153f6cdef13083530bb48030</td>\n",
       "      <td>seed</td>\n",
       "      <td>NaN</td>\n",
       "      <td>01-03-2014</td>\n",
       "      <td>700000.0</td>\n",
       "    </tr>\n",
       "    <tr>\n",
       "      <th>3</th>\n",
       "      <td>/organization/-the-one-of-them-inc-</td>\n",
       "      <td>(THE) ONE of THEM,Inc.</td>\n",
       "      <td>http://oneofthem.jp</td>\n",
       "      <td>Apps|Games|Mobile</td>\n",
       "      <td>operating</td>\n",
       "      <td>NaN</td>\n",
       "      <td>NaN</td>\n",
       "      <td>NaN</td>\n",
       "      <td>NaN</td>\n",
       "      <td>NaN</td>\n",
       "      <td>/funding-round/650b8f704416801069bb178a1418776b</td>\n",
       "      <td>venture</td>\n",
       "      <td>B</td>\n",
       "      <td>30-01-2014</td>\n",
       "      <td>3406878.0</td>\n",
       "    </tr>\n",
       "    <tr>\n",
       "      <th>4</th>\n",
       "      <td>/organization/0-6-com</td>\n",
       "      <td>0-6.com</td>\n",
       "      <td>http://www.0-6.com</td>\n",
       "      <td>Curated Web</td>\n",
       "      <td>operating</td>\n",
       "      <td>CHN</td>\n",
       "      <td>22</td>\n",
       "      <td>Beijing</td>\n",
       "      <td>Beijing</td>\n",
       "      <td>01-01-2007</td>\n",
       "      <td>/funding-round/5727accaeaa57461bd22a9bdd945382d</td>\n",
       "      <td>venture</td>\n",
       "      <td>A</td>\n",
       "      <td>19-03-2008</td>\n",
       "      <td>2000000.0</td>\n",
       "    </tr>\n",
       "  </tbody>\n",
       "</table>\n",
       "</div>"
      ],
      "text/plain": [
       "                             permalink                    name  \\\n",
       "0                  /organization/-fame                   #fame   \n",
       "1               /organization/-qounter                :Qounter   \n",
       "2               /organization/-qounter                :Qounter   \n",
       "3  /organization/-the-one-of-them-inc-  (THE) ONE of THEM,Inc.   \n",
       "4                /organization/0-6-com                 0-6.com   \n",
       "\n",
       "             homepage_url                                      category_list  \\\n",
       "0      http://livfame.com                                              Media   \n",
       "1  http://www.qounter.com  Application Platforms|Real Time|Social Network...   \n",
       "2  http://www.qounter.com  Application Platforms|Real Time|Social Network...   \n",
       "3     http://oneofthem.jp                                  Apps|Games|Mobile   \n",
       "4      http://www.0-6.com                                        Curated Web   \n",
       "\n",
       "      status country_code state_code      region           city  founded_at  \\\n",
       "0  operating          IND         16      Mumbai         Mumbai         NaN   \n",
       "1  operating          USA         DE  DE - Other  Delaware City  04-09-2014   \n",
       "2  operating          USA         DE  DE - Other  Delaware City  04-09-2014   \n",
       "3  operating          NaN        NaN         NaN            NaN         NaN   \n",
       "4  operating          CHN         22     Beijing        Beijing  01-01-2007   \n",
       "\n",
       "                           funding_round_permalink funding_round_type  \\\n",
       "0  /funding-round/9a01d05418af9f794eebff7ace91f638            venture   \n",
       "1  /funding-round/22dacff496eb7acb2b901dec1dfe5633            venture   \n",
       "2  /funding-round/b44fbb94153f6cdef13083530bb48030               seed   \n",
       "3  /funding-round/650b8f704416801069bb178a1418776b            venture   \n",
       "4  /funding-round/5727accaeaa57461bd22a9bdd945382d            venture   \n",
       "\n",
       "  funding_round_code   funded_at  raised_amount_usd  \n",
       "0                  B  05-01-2015         10000000.0  \n",
       "1                  A  14-10-2014                NaN  \n",
       "2                NaN  01-03-2014           700000.0  \n",
       "3                  B  30-01-2014          3406878.0  \n",
       "4                  A  19-03-2008          2000000.0  "
      ]
     },
     "execution_count": 440,
     "metadata": {},
     "output_type": "execute_result"
    }
   ],
   "source": [
    "rounds = rounds.rename(columns = {'company_permalink':'permalink'})\n",
    "merged = pd.merge(companies,rounds, how= 'inner',on='permalink')\n",
    "merged.head()\n",
    "\n"
   ]
  },
  {
   "cell_type": "markdown",
   "id": "0e9dc291",
   "metadata": {},
   "source": [
    "# checking for total null values in all the colums"
   ]
  },
  {
   "cell_type": "code",
   "execution_count": null,
   "id": "b8bab570",
   "metadata": {},
   "outputs": [],
   "source": [
    "merged.isnull().sum()"
   ]
  },
  {
   "cell_type": "markdown",
   "id": "0f35d649",
   "metadata": {},
   "source": [
    "# let us remove all the unwanted rows"
   ]
  },
  {
   "cell_type": "code",
   "execution_count": null,
   "id": "ab59a739",
   "metadata": {},
   "outputs": [],
   "source": [
    "merged.status.value_counts()"
   ]
  },
  {
   "cell_type": "markdown",
   "id": "16e37f7e",
   "metadata": {},
   "source": [
    "we can remove all the rows that are in closed status"
   ]
  },
  {
   "cell_type": "code",
   "execution_count": null,
   "id": "08efa79c",
   "metadata": {},
   "outputs": [],
   "source": [
    "merged = merged[merged['status'] != 'closed']\n",
    "merged"
   ]
  },
  {
   "cell_type": "markdown",
   "id": "d4714735",
   "metadata": {},
   "source": [
    "types of funding that is recived by the company"
   ]
  },
  {
   "cell_type": "code",
   "execution_count": null,
   "id": "895d3363",
   "metadata": {},
   "outputs": [],
   "source": [
    "a = pd.DataFrame(merged['funding_round_type'].value_counts()).reset_index()\n",
    "a.sort_values(by = ['funding_round_type'],ascending = False)\n",
    "\n",
    "#merged['funding_round_type'].value_counts().describe()\n"
   ]
  },
  {
   "cell_type": "code",
   "execution_count": null,
   "id": "e510dece",
   "metadata": {},
   "outputs": [],
   "source": [
    "piechart = plt.pie(a['funding_round_type'][:6],labels = a['index'][:6])\n"
   ]
  },
  {
   "cell_type": "markdown",
   "id": "769128fe",
   "metadata": {},
   "source": [
    "top 5 fundings that have been raised in the venture category"
   ]
  },
  {
   "cell_type": "code",
   "execution_count": null,
   "id": "f738ea8e",
   "metadata": {},
   "outputs": [],
   "source": [
    "merged[merged['funding_round_type'] == 'venture']['raised_amount_usd'].value_counts().head()"
   ]
  },
  {
   "cell_type": "code",
   "execution_count": null,
   "id": "fe071571",
   "metadata": {},
   "outputs": [],
   "source": [
    " merged[merged['funding_round_type']=='venture']['raised_amount_usd'].describe()"
   ]
  },
  {
   "cell_type": "markdown",
   "id": "65c3d0ba",
   "metadata": {},
   "source": [
    "filtering the columns based on sparks investment capacity"
   ]
  },
  {
   "cell_type": "code",
   "execution_count": null,
   "id": "1d154c7b",
   "metadata": {},
   "outputs": [],
   "source": [
    "merged[(merged['funding_round_type']=='venture')&(merged['raised_amount_usd']>= 5000000)&(merged['raised_amount_usd']<=15000000)]"
   ]
  },
  {
   "cell_type": "markdown",
   "id": "38079f54",
   "metadata": {},
   "source": [
    "no.of investors that have offered funding btween 5 and 15 M in the category of venture type funding"
   ]
  },
  {
   "cell_type": "code",
   "execution_count": null,
   "id": "9af6490e",
   "metadata": {},
   "outputs": [],
   "source": [
    "merged[(merged['funding_round_type']=='venture')& (merged['raised_amount_usd']>=5000000) & (merged['raised_amount_usd']<=15000000)]['raised_amount_usd'].value_counts().sum()"
   ]
  },
  {
   "cell_type": "markdown",
   "id": "be86c197",
   "metadata": {},
   "source": [
    "total amount that was raied by all the companies in the category of venture  funding"
   ]
  },
  {
   "cell_type": "code",
   "execution_count": null,
   "id": "b21cc974",
   "metadata": {},
   "outputs": [],
   "source": [
    "merged[merged['funding_round_type']=='venture']['raised_amount_usd'].sum()"
   ]
  },
  {
   "cell_type": "markdown",
   "id": "8e33788b",
   "metadata": {},
   "source": [
    "# total amount that was raised by companies between 5 million and 1.5 million in the category of venture funding"
   ]
  },
  {
   "cell_type": "code",
   "execution_count": null,
   "id": "2e4ddd28",
   "metadata": {},
   "outputs": [],
   "source": [
    "merged[(merged['funding_round_type']=='venture')& (merged['raised_amount_usd']>=5000000) & (merged['raised_amount_usd']<=15000000)]['raised_amount_usd'].sum()"
   ]
  },
  {
   "cell_type": "markdown",
   "id": "6ff7a554",
   "metadata": {},
   "source": [
    "# Analysing the seed funding category"
   ]
  },
  {
   "cell_type": "markdown",
   "id": "53ff0c40",
   "metadata": {},
   "source": [
    "top 5 investments in seed funding category"
   ]
  },
  {
   "cell_type": "code",
   "execution_count": null,
   "id": "7ad5835f",
   "metadata": {},
   "outputs": [],
   "source": [
    "merged[merged['funding_round_type']=='seed']['raised_amount_usd'].value_counts().head()"
   ]
  },
  {
   "cell_type": "code",
   "execution_count": null,
   "id": "e99b16be",
   "metadata": {},
   "outputs": [],
   "source": [
    "merged[merged['funding_round_type']=='seed']['raised_amount_usd'].describe()"
   ]
  },
  {
   "cell_type": "code",
   "execution_count": null,
   "id": "84e3f866",
   "metadata": {},
   "outputs": [],
   "source": []
  },
  {
   "cell_type": "code",
   "execution_count": null,
   "id": "a92c5431",
   "metadata": {},
   "outputs": [],
   "source": []
  },
  {
   "cell_type": "markdown",
   "id": "984431cd",
   "metadata": {},
   "source": [
    "no.of investors that have offered funding btween 5 and 15 M in the category of venture type funding"
   ]
  },
  {
   "cell_type": "code",
   "execution_count": null,
   "id": "a2514daa",
   "metadata": {},
   "outputs": [],
   "source": [
    "merged[(merged['funding_round_type']== 'seed')& (merged['raised_amount_usd']>= 5000000)& (merged['raised_amount_usd']<=15000000)]['raised_amount_usd'].value_counts().sum()"
   ]
  },
  {
   "cell_type": "markdown",
   "id": "716aaba1",
   "metadata": {},
   "source": [
    "Total amount that was raised by the companies in the category of seed funding "
   ]
  },
  {
   "cell_type": "code",
   "execution_count": null,
   "id": "9bc379fe",
   "metadata": {},
   "outputs": [],
   "source": [
    "merged[merged['funding_round_type']== 'seed']['raised_amount_usd'].sum()"
   ]
  },
  {
   "cell_type": "markdown",
   "id": "75178530",
   "metadata": {},
   "source": [
    "# Total amount that was raised by the companies between 5 million and 1.5 million in the category of seed funding "
   ]
  },
  {
   "cell_type": "code",
   "execution_count": null,
   "id": "7f8eb3a5",
   "metadata": {},
   "outputs": [],
   "source": [
    "merged[(merged['funding_round_type']== 'seed')& (merged['raised_amount_usd']>= 5000000)& (merged['raised_amount_usd']<=15000000)]['raised_amount_usd'].sum()"
   ]
  },
  {
   "cell_type": "markdown",
   "id": "1d7a90cc",
   "metadata": {},
   "source": [
    "# analysing debt financing category"
   ]
  },
  {
   "cell_type": "markdown",
   "id": "e8ef0fe1",
   "metadata": {},
   "source": [
    "top 5 investmenst in debt financing category"
   ]
  },
  {
   "cell_type": "code",
   "execution_count": null,
   "id": "947a6130",
   "metadata": {},
   "outputs": [],
   "source": [
    "merged[merged['funding_round_type'] == 'debt_financing']['raised_amount_usd'].value_counts().head()"
   ]
  },
  {
   "cell_type": "code",
   "execution_count": null,
   "id": "69d85242",
   "metadata": {},
   "outputs": [],
   "source": [
    "merged[merged['funding_round_type'] == 'debt_financing']['raised_amount_usd'].describe()"
   ]
  },
  {
   "cell_type": "markdown",
   "id": "4e6d41bc",
   "metadata": {},
   "source": [
    "no.of investors that have offered funding btween 5 and 15 M in the category of debt finance funding"
   ]
  },
  {
   "cell_type": "code",
   "execution_count": null,
   "id": "fd2a0df4",
   "metadata": {},
   "outputs": [],
   "source": [
    "merged[(merged['funding_round_type']=='debt_financing') & (merged['raised_amount_usd']>= 5000000) & (merged['raised_amount_usd']<= 15000000)]['raised_amount_usd'].value_counts().sum()"
   ]
  },
  {
   "cell_type": "markdown",
   "id": "2b0e8e41",
   "metadata": {},
   "source": [
    "Total amount that was raised by the companies in the category of debt financing"
   ]
  },
  {
   "cell_type": "code",
   "execution_count": null,
   "id": "77522e33",
   "metadata": {},
   "outputs": [],
   "source": [
    "merged[merged['funding_round_type']== 'debt_financing']['raised_amount_usd'].sum()"
   ]
  },
  {
   "cell_type": "markdown",
   "id": "2873d10c",
   "metadata": {},
   "source": [
    "# Total amount that was raised by the companies between 5 million and 1.5 million in the category of debt financing "
   ]
  },
  {
   "cell_type": "code",
   "execution_count": null,
   "id": "b679737c",
   "metadata": {},
   "outputs": [],
   "source": [
    "merged[(merged['funding_round_type']=='debt_financing') & (merged['raised_amount_usd']>= 5000000) & (merged['raised_amount_usd']<= 15000000)]['raised_amount_usd'].sum()"
   ]
  },
  {
   "cell_type": "code",
   "execution_count": null,
   "id": "3ab3243a",
   "metadata": {},
   "outputs": [],
   "source": [
    "merged[merged['funding_round_type'] == 'private_equity']['raised_amount_usd'].value_counts().head()"
   ]
  },
  {
   "cell_type": "code",
   "execution_count": null,
   "id": "2282ec9b",
   "metadata": {},
   "outputs": [],
   "source": [
    "merged[merged['funding_round_type'] == 'private_equity']['raised_amount_usd'].describe()"
   ]
  },
  {
   "cell_type": "code",
   "execution_count": null,
   "id": "1523815e",
   "metadata": {},
   "outputs": [],
   "source": [
    "merged[(merged['funding_round_type']=='private_equity') & (merged['raised_amount_usd']>= 5000000) & (merged['raised_amount_usd']<= 15000000)]['raised_amount_usd'].value_counts().sum()"
   ]
  },
  {
   "cell_type": "code",
   "execution_count": null,
   "id": "9763c618",
   "metadata": {},
   "outputs": [],
   "source": [
    "merged[(merged['funding_round_type']=='private_equity') & (merged['raised_amount_usd']>= 5000000) & (merged['raised_amount_usd']<= 15000000)]['raised_amount_usd'].sum()"
   ]
  },
  {
   "cell_type": "code",
   "execution_count": null,
   "id": "b887d817",
   "metadata": {},
   "outputs": [],
   "source": [
    "merged[(merged['raised_amount_usd'] >= 5000000) & (merged['raised_amount_usd'] <= 15000000)].groupby(['funding_round_type'])['raised_amount_usd'].size().reset_index().plot.bar()\n",
    "plt.ylim(0,3000)"
   ]
  },
  {
   "cell_type": "markdown",
   "id": "6335bfbf",
   "metadata": {},
   "source": [
    "most of the funding between 5 million to 1.5 million is made in venture funding category, therefore we can ignore the rest of the categories"
   ]
  },
  {
   "cell_type": "code",
   "execution_count": null,
   "id": "d020c01e",
   "metadata": {},
   "outputs": [],
   "source": [
    "merged = merged[merged['funding_round_type']=='venture']\n",
    "merged.head()"
   ]
  },
  {
   "cell_type": "markdown",
   "id": "b850d655",
   "metadata": {},
   "source": [
    "list of top 10 countries where the investment is being made"
   ]
  },
  {
   "cell_type": "code",
   "execution_count": null,
   "id": "34598d03",
   "metadata": {},
   "outputs": [],
   "source": [
    "list_of_10 = merged.groupby(['country_code'])['raised_amount_usd'].sum().sort_values(ascending = False).reset_index().head(10)\n",
    "list_of_10=list_of_10['country_code'].tolist()\n",
    "list_of_10"
   ]
  },
  {
   "cell_type": "markdown",
   "id": "74e39875",
   "metadata": {},
   "source": [
    "retaining the columns which has just top 10 countries and ignoring the rest"
   ]
  },
  {
   "cell_type": "code",
   "execution_count": null,
   "id": "984f3e54",
   "metadata": {},
   "outputs": [],
   "source": [
    "top_10 = merged[merged['country_code'].isin(list_of_10)]\n",
    "top_10"
   ]
  },
  {
   "cell_type": "markdown",
   "id": "7fff1d0b",
   "metadata": {},
   "source": [
    "let us consider top 3 countries with english as their official lang"
   ]
  },
  {
   "cell_type": "code",
   "execution_count": null,
   "id": "34829495",
   "metadata": {},
   "outputs": [],
   "source": [
    "top_3 = ['USA','GBR','IND']"
   ]
  },
  {
   "cell_type": "code",
   "execution_count": null,
   "id": "90de4a6a",
   "metadata": {},
   "outputs": [],
   "source": [
    "merged = merged[merged['country_code'].isin(top_3)]\n",
    "merged.head()"
   ]
  },
  {
   "cell_type": "markdown",
   "id": "adc3347e",
   "metadata": {},
   "source": [
    "we can consider only the value before the pipeline in the categogry list column"
   ]
  },
  {
   "cell_type": "code",
   "execution_count": null,
   "id": "708179db",
   "metadata": {},
   "outputs": [],
   "source": [
    "merged['primary_sector'] =(merged['category_list'].str.split('|')).str[0]\n",
    "merged.head()\n"
   ]
  },
  {
   "cell_type": "markdown",
   "id": "64b8de1d",
   "metadata": {},
   "source": [
    "imoprt mapping file"
   ]
  },
  {
   "cell_type": "code",
   "execution_count": null,
   "id": "d1a3fe33",
   "metadata": {},
   "outputs": [],
   "source": [
    "mapping = pd.read_csv(\"C:/Users/swath/Downloads/mapping (1).csv\")\n",
    "mapping.head()"
   ]
  },
  {
   "cell_type": "code",
   "execution_count": null,
   "id": "f4de64dc",
   "metadata": {},
   "outputs": [],
   "source": [
    "mapping = mapping[pd.notnull(mapping['category_list'])]"
   ]
  },
  {
   "cell_type": "code",
   "execution_count": null,
   "id": "278bfdf0",
   "metadata": {},
   "outputs": [],
   "source": [
    "main_sector = pd.get_dummies(mapping).idxmax(1)\n",
    "#mapping = pd.DataFrame({'primary_sector':mapping['primary_sector'],'main_sector':main_sector})\n",
    "#mapping\n"
   ]
  },
  {
   "cell_type": "code",
   "execution_count": null,
   "id": "ee821c93",
   "metadata": {},
   "outputs": [],
   "source": [
    "a = mapping['category_list']\n",
    "mapping = pd.DataFrame({'primary_sector':a,'main_sector':main_sector})\n",
    "mapping.head()"
   ]
  },
  {
   "cell_type": "code",
   "execution_count": null,
   "id": "f83d7cc4",
   "metadata": {},
   "outputs": [],
   "source": [
    "merged = merged.rename({'category_list':'primary_sector'})"
   ]
  },
  {
   "cell_type": "code",
   "execution_count": 415,
   "id": "9e847c53",
   "metadata": {},
   "outputs": [],
   "source": [
    "merged_2 = pd.merge(merged,mapping,how = 'inner', on='primary_sector')"
   ]
  },
  {
   "cell_type": "code",
   "execution_count": 416,
   "id": "4e4f384e",
   "metadata": {},
   "outputs": [
    {
     "data": {
      "text/html": [
       "<div>\n",
       "<style scoped>\n",
       "    .dataframe tbody tr th:only-of-type {\n",
       "        vertical-align: middle;\n",
       "    }\n",
       "\n",
       "    .dataframe tbody tr th {\n",
       "        vertical-align: top;\n",
       "    }\n",
       "\n",
       "    .dataframe thead th {\n",
       "        text-align: right;\n",
       "    }\n",
       "</style>\n",
       "<table border=\"1\" class=\"dataframe\">\n",
       "  <thead>\n",
       "    <tr style=\"text-align: right;\">\n",
       "      <th></th>\n",
       "      <th>permalink</th>\n",
       "      <th>name</th>\n",
       "      <th>homepage_url</th>\n",
       "      <th>category_list</th>\n",
       "      <th>status</th>\n",
       "      <th>country_code</th>\n",
       "      <th>state_code</th>\n",
       "      <th>region</th>\n",
       "      <th>city</th>\n",
       "      <th>founded_at</th>\n",
       "      <th>funding_round_permalink</th>\n",
       "      <th>funding_round_type</th>\n",
       "      <th>funding_round_code</th>\n",
       "      <th>funded_at</th>\n",
       "      <th>raised_amount_usd</th>\n",
       "      <th>primary_sector</th>\n",
       "      <th>main_sector</th>\n",
       "    </tr>\n",
       "  </thead>\n",
       "  <tbody>\n",
       "    <tr>\n",
       "      <th>0</th>\n",
       "      <td>/organization/-fame</td>\n",
       "      <td>#fame</td>\n",
       "      <td>http://livfame.com</td>\n",
       "      <td>Media</td>\n",
       "      <td>operating</td>\n",
       "      <td>IND</td>\n",
       "      <td>16</td>\n",
       "      <td>Mumbai</td>\n",
       "      <td>Mumbai</td>\n",
       "      <td>NaN</td>\n",
       "      <td>/funding-round/9a01d05418af9f794eebff7ace91f638</td>\n",
       "      <td>venture</td>\n",
       "      <td>B</td>\n",
       "      <td>05-01-2015</td>\n",
       "      <td>10000000.0</td>\n",
       "      <td>Media</td>\n",
       "      <td>Entertainment</td>\n",
       "    </tr>\n",
       "    <tr>\n",
       "      <th>1</th>\n",
       "      <td>/organization/90min</td>\n",
       "      <td>90min</td>\n",
       "      <td>http://www.90min.com</td>\n",
       "      <td>Media|News|Publishing|Soccer|Sports</td>\n",
       "      <td>operating</td>\n",
       "      <td>GBR</td>\n",
       "      <td>H9</td>\n",
       "      <td>London</td>\n",
       "      <td>London</td>\n",
       "      <td>01-01-2011</td>\n",
       "      <td>/funding-round/21a2cbf6f2fb2a1c2a61e04bf930dfe6</td>\n",
       "      <td>venture</td>\n",
       "      <td>NaN</td>\n",
       "      <td>06-10-2015</td>\n",
       "      <td>15000000.0</td>\n",
       "      <td>Media</td>\n",
       "      <td>Entertainment</td>\n",
       "    </tr>\n",
       "    <tr>\n",
       "      <th>2</th>\n",
       "      <td>/organization/90min</td>\n",
       "      <td>90min</td>\n",
       "      <td>http://www.90min.com</td>\n",
       "      <td>Media|News|Publishing|Soccer|Sports</td>\n",
       "      <td>operating</td>\n",
       "      <td>GBR</td>\n",
       "      <td>H9</td>\n",
       "      <td>London</td>\n",
       "      <td>London</td>\n",
       "      <td>01-01-2011</td>\n",
       "      <td>/funding-round/bd626ed022f5c66574b1afe234f3c90d</td>\n",
       "      <td>venture</td>\n",
       "      <td>NaN</td>\n",
       "      <td>07-05-2013</td>\n",
       "      <td>5800000.0</td>\n",
       "      <td>Media</td>\n",
       "      <td>Entertainment</td>\n",
       "    </tr>\n",
       "    <tr>\n",
       "      <th>3</th>\n",
       "      <td>/organization/90min</td>\n",
       "      <td>90min</td>\n",
       "      <td>http://www.90min.com</td>\n",
       "      <td>Media|News|Publishing|Soccer|Sports</td>\n",
       "      <td>operating</td>\n",
       "      <td>GBR</td>\n",
       "      <td>H9</td>\n",
       "      <td>London</td>\n",
       "      <td>London</td>\n",
       "      <td>01-01-2011</td>\n",
       "      <td>/funding-round/fd4b15e8c97ee2ffc0acccdbe1a98810</td>\n",
       "      <td>venture</td>\n",
       "      <td>NaN</td>\n",
       "      <td>26-03-2014</td>\n",
       "      <td>18000000.0</td>\n",
       "      <td>Media</td>\n",
       "      <td>Entertainment</td>\n",
       "    </tr>\n",
       "    <tr>\n",
       "      <th>4</th>\n",
       "      <td>/organization/all-def-digital</td>\n",
       "      <td>All Def Digital</td>\n",
       "      <td>http://alldefdigital.com</td>\n",
       "      <td>Media</td>\n",
       "      <td>operating</td>\n",
       "      <td>USA</td>\n",
       "      <td>CA</td>\n",
       "      <td>Los Angeles</td>\n",
       "      <td>Los Angeles</td>\n",
       "      <td>NaN</td>\n",
       "      <td>/funding-round/452a2342fe720285c3b92e9bd927d9ba</td>\n",
       "      <td>venture</td>\n",
       "      <td>A</td>\n",
       "      <td>06-08-2014</td>\n",
       "      <td>5000000.0</td>\n",
       "      <td>Media</td>\n",
       "      <td>Entertainment</td>\n",
       "    </tr>\n",
       "  </tbody>\n",
       "</table>\n",
       "</div>"
      ],
      "text/plain": [
       "                       permalink             name              homepage_url  \\\n",
       "0            /organization/-fame            #fame        http://livfame.com   \n",
       "1            /organization/90min            90min      http://www.90min.com   \n",
       "2            /organization/90min            90min      http://www.90min.com   \n",
       "3            /organization/90min            90min      http://www.90min.com   \n",
       "4  /organization/all-def-digital  All Def Digital  http://alldefdigital.com   \n",
       "\n",
       "                         category_list     status country_code state_code  \\\n",
       "0                                Media  operating          IND         16   \n",
       "1  Media|News|Publishing|Soccer|Sports  operating          GBR         H9   \n",
       "2  Media|News|Publishing|Soccer|Sports  operating          GBR         H9   \n",
       "3  Media|News|Publishing|Soccer|Sports  operating          GBR         H9   \n",
       "4                                Media  operating          USA         CA   \n",
       "\n",
       "        region         city  founded_at  \\\n",
       "0       Mumbai       Mumbai         NaN   \n",
       "1       London       London  01-01-2011   \n",
       "2       London       London  01-01-2011   \n",
       "3       London       London  01-01-2011   \n",
       "4  Los Angeles  Los Angeles         NaN   \n",
       "\n",
       "                           funding_round_permalink funding_round_type  \\\n",
       "0  /funding-round/9a01d05418af9f794eebff7ace91f638            venture   \n",
       "1  /funding-round/21a2cbf6f2fb2a1c2a61e04bf930dfe6            venture   \n",
       "2  /funding-round/bd626ed022f5c66574b1afe234f3c90d            venture   \n",
       "3  /funding-round/fd4b15e8c97ee2ffc0acccdbe1a98810            venture   \n",
       "4  /funding-round/452a2342fe720285c3b92e9bd927d9ba            venture   \n",
       "\n",
       "  funding_round_code   funded_at  raised_amount_usd primary_sector  \\\n",
       "0                  B  05-01-2015         10000000.0          Media   \n",
       "1                NaN  06-10-2015         15000000.0          Media   \n",
       "2                NaN  07-05-2013          5800000.0          Media   \n",
       "3                NaN  26-03-2014         18000000.0          Media   \n",
       "4                  A  06-08-2014          5000000.0          Media   \n",
       "\n",
       "     main_sector  \n",
       "0  Entertainment  \n",
       "1  Entertainment  \n",
       "2  Entertainment  \n",
       "3  Entertainment  \n",
       "4  Entertainment  "
      ]
     },
     "execution_count": 416,
     "metadata": {},
     "output_type": "execute_result"
    }
   ],
   "source": [
    "merged_2.head()"
   ]
  },
  {
   "cell_type": "markdown",
   "id": "5041719d",
   "metadata": {},
   "source": [
    "split the data based on top 3 countries"
   ]
  },
  {
   "cell_type": "code",
   "execution_count": 417,
   "id": "4057a713",
   "metadata": {},
   "outputs": [],
   "source": [
    "df1 = merged_2[(merged_2['country_code'] == 'USA')&(merged_2['raised_amount_usd']>=5000000)&(merged_2['raised_amount_usd']<=15000000)]"
   ]
  },
  {
   "cell_type": "code",
   "execution_count": 418,
   "id": "f0a6a089",
   "metadata": {},
   "outputs": [
    {
     "data": {
      "text/html": [
       "<div>\n",
       "<style scoped>\n",
       "    .dataframe tbody tr th:only-of-type {\n",
       "        vertical-align: middle;\n",
       "    }\n",
       "\n",
       "    .dataframe tbody tr th {\n",
       "        vertical-align: top;\n",
       "    }\n",
       "\n",
       "    .dataframe thead th {\n",
       "        text-align: right;\n",
       "    }\n",
       "</style>\n",
       "<table border=\"1\" class=\"dataframe\">\n",
       "  <thead>\n",
       "    <tr style=\"text-align: right;\">\n",
       "      <th></th>\n",
       "      <th>permalink</th>\n",
       "      <th>name</th>\n",
       "      <th>homepage_url</th>\n",
       "      <th>category_list</th>\n",
       "      <th>status</th>\n",
       "      <th>country_code</th>\n",
       "      <th>state_code</th>\n",
       "      <th>region</th>\n",
       "      <th>city</th>\n",
       "      <th>founded_at</th>\n",
       "      <th>funding_round_permalink</th>\n",
       "      <th>funding_round_type</th>\n",
       "      <th>funding_round_code</th>\n",
       "      <th>funded_at</th>\n",
       "      <th>raised_amount_usd</th>\n",
       "      <th>primary_sector</th>\n",
       "      <th>main_sector</th>\n",
       "    </tr>\n",
       "  </thead>\n",
       "  <tbody>\n",
       "    <tr>\n",
       "      <th>4</th>\n",
       "      <td>/organization/all-def-digital</td>\n",
       "      <td>All Def Digital</td>\n",
       "      <td>http://alldefdigital.com</td>\n",
       "      <td>Media</td>\n",
       "      <td>operating</td>\n",
       "      <td>USA</td>\n",
       "      <td>CA</td>\n",
       "      <td>Los Angeles</td>\n",
       "      <td>Los Angeles</td>\n",
       "      <td>NaN</td>\n",
       "      <td>/funding-round/452a2342fe720285c3b92e9bd927d9ba</td>\n",
       "      <td>venture</td>\n",
       "      <td>A</td>\n",
       "      <td>06-08-2014</td>\n",
       "      <td>5000000.0</td>\n",
       "      <td>Media</td>\n",
       "      <td>Entertainment</td>\n",
       "    </tr>\n",
       "    <tr>\n",
       "      <th>14</th>\n",
       "      <td>/organization/chefs-feed</td>\n",
       "      <td>ChefsFeed</td>\n",
       "      <td>http://www.chefsfeed.com</td>\n",
       "      <td>Media|Mobile|Restaurants|Technology</td>\n",
       "      <td>operating</td>\n",
       "      <td>USA</td>\n",
       "      <td>CA</td>\n",
       "      <td>SF Bay Area</td>\n",
       "      <td>San Francisco</td>\n",
       "      <td>01-01-2012</td>\n",
       "      <td>/funding-round/adca195749ae9ace84684723fbe75e5b</td>\n",
       "      <td>venture</td>\n",
       "      <td>A</td>\n",
       "      <td>26-02-2015</td>\n",
       "      <td>5000000.0</td>\n",
       "      <td>Media</td>\n",
       "      <td>Entertainment</td>\n",
       "    </tr>\n",
       "    <tr>\n",
       "      <th>18</th>\n",
       "      <td>/organization/huffingtonpost</td>\n",
       "      <td>The Huffington Post</td>\n",
       "      <td>http://www.huffingtonpost.com</td>\n",
       "      <td>Media|News|Publishing</td>\n",
       "      <td>acquired</td>\n",
       "      <td>USA</td>\n",
       "      <td>NY</td>\n",
       "      <td>New York City</td>\n",
       "      <td>New York</td>\n",
       "      <td>09-05-2005</td>\n",
       "      <td>/funding-round/7f05940c4d2dfecb8e50a0e5720e5065</td>\n",
       "      <td>venture</td>\n",
       "      <td>A</td>\n",
       "      <td>01-08-2006</td>\n",
       "      <td>5000000.0</td>\n",
       "      <td>Media</td>\n",
       "      <td>Entertainment</td>\n",
       "    </tr>\n",
       "    <tr>\n",
       "      <th>19</th>\n",
       "      <td>/organization/huffingtonpost</td>\n",
       "      <td>The Huffington Post</td>\n",
       "      <td>http://www.huffingtonpost.com</td>\n",
       "      <td>Media|News|Publishing</td>\n",
       "      <td>acquired</td>\n",
       "      <td>USA</td>\n",
       "      <td>NY</td>\n",
       "      <td>New York City</td>\n",
       "      <td>New York</td>\n",
       "      <td>09-05-2005</td>\n",
       "      <td>/funding-round/9241ae16e08df17ebdc064e49e23035a</td>\n",
       "      <td>venture</td>\n",
       "      <td>B</td>\n",
       "      <td>01-09-2007</td>\n",
       "      <td>5000000.0</td>\n",
       "      <td>Media</td>\n",
       "      <td>Entertainment</td>\n",
       "    </tr>\n",
       "    <tr>\n",
       "      <th>24</th>\n",
       "      <td>/organization/mediabong</td>\n",
       "      <td>MEDIABONG</td>\n",
       "      <td>http://www.mediabong.com</td>\n",
       "      <td>Media|Semantic Search|Video</td>\n",
       "      <td>operating</td>\n",
       "      <td>USA</td>\n",
       "      <td>NY</td>\n",
       "      <td>New York City</td>\n",
       "      <td>New York</td>\n",
       "      <td>30-05-2011</td>\n",
       "      <td>/funding-round/9282890ca87072025dc1807f400acee6</td>\n",
       "      <td>venture</td>\n",
       "      <td>B</td>\n",
       "      <td>13-05-2015</td>\n",
       "      <td>5000000.0</td>\n",
       "      <td>Media</td>\n",
       "      <td>Entertainment</td>\n",
       "    </tr>\n",
       "  </tbody>\n",
       "</table>\n",
       "</div>"
      ],
      "text/plain": [
       "                        permalink                 name  \\\n",
       "4   /organization/all-def-digital      All Def Digital   \n",
       "14       /organization/chefs-feed            ChefsFeed   \n",
       "18   /organization/huffingtonpost  The Huffington Post   \n",
       "19   /organization/huffingtonpost  The Huffington Post   \n",
       "24        /organization/mediabong            MEDIABONG   \n",
       "\n",
       "                     homepage_url                        category_list  \\\n",
       "4        http://alldefdigital.com                                Media   \n",
       "14       http://www.chefsfeed.com  Media|Mobile|Restaurants|Technology   \n",
       "18  http://www.huffingtonpost.com                Media|News|Publishing   \n",
       "19  http://www.huffingtonpost.com                Media|News|Publishing   \n",
       "24       http://www.mediabong.com          Media|Semantic Search|Video   \n",
       "\n",
       "       status country_code state_code         region           city  \\\n",
       "4   operating          USA         CA    Los Angeles    Los Angeles   \n",
       "14  operating          USA         CA    SF Bay Area  San Francisco   \n",
       "18   acquired          USA         NY  New York City       New York   \n",
       "19   acquired          USA         NY  New York City       New York   \n",
       "24  operating          USA         NY  New York City       New York   \n",
       "\n",
       "    founded_at                          funding_round_permalink  \\\n",
       "4          NaN  /funding-round/452a2342fe720285c3b92e9bd927d9ba   \n",
       "14  01-01-2012  /funding-round/adca195749ae9ace84684723fbe75e5b   \n",
       "18  09-05-2005  /funding-round/7f05940c4d2dfecb8e50a0e5720e5065   \n",
       "19  09-05-2005  /funding-round/9241ae16e08df17ebdc064e49e23035a   \n",
       "24  30-05-2011  /funding-round/9282890ca87072025dc1807f400acee6   \n",
       "\n",
       "   funding_round_type funding_round_code   funded_at  raised_amount_usd  \\\n",
       "4             venture                  A  06-08-2014          5000000.0   \n",
       "14            venture                  A  26-02-2015          5000000.0   \n",
       "18            venture                  A  01-08-2006          5000000.0   \n",
       "19            venture                  B  01-09-2007          5000000.0   \n",
       "24            venture                  B  13-05-2015          5000000.0   \n",
       "\n",
       "   primary_sector    main_sector  \n",
       "4           Media  Entertainment  \n",
       "14          Media  Entertainment  \n",
       "18          Media  Entertainment  \n",
       "19          Media  Entertainment  \n",
       "24          Media  Entertainment  "
      ]
     },
     "execution_count": 418,
     "metadata": {},
     "output_type": "execute_result"
    }
   ],
   "source": [
    "df1.head()"
   ]
  },
  {
   "cell_type": "code",
   "execution_count": 419,
   "id": "e2ed559f",
   "metadata": {},
   "outputs": [],
   "source": [
    "df2 =merged_2[(merged_2['country_code'] == 'IND')&(merged_2['raised_amount_usd']>=5000000)&(merged_2['raised_amount_usd']<=15000000)]"
   ]
  },
  {
   "cell_type": "code",
   "execution_count": 420,
   "id": "64a7058d",
   "metadata": {},
   "outputs": [
    {
     "data": {
      "text/html": [
       "<div>\n",
       "<style scoped>\n",
       "    .dataframe tbody tr th:only-of-type {\n",
       "        vertical-align: middle;\n",
       "    }\n",
       "\n",
       "    .dataframe tbody tr th {\n",
       "        vertical-align: top;\n",
       "    }\n",
       "\n",
       "    .dataframe thead th {\n",
       "        text-align: right;\n",
       "    }\n",
       "</style>\n",
       "<table border=\"1\" class=\"dataframe\">\n",
       "  <thead>\n",
       "    <tr style=\"text-align: right;\">\n",
       "      <th></th>\n",
       "      <th>permalink</th>\n",
       "      <th>name</th>\n",
       "      <th>homepage_url</th>\n",
       "      <th>category_list</th>\n",
       "      <th>status</th>\n",
       "      <th>country_code</th>\n",
       "      <th>state_code</th>\n",
       "      <th>region</th>\n",
       "      <th>city</th>\n",
       "      <th>founded_at</th>\n",
       "      <th>funding_round_permalink</th>\n",
       "      <th>funding_round_type</th>\n",
       "      <th>funding_round_code</th>\n",
       "      <th>funded_at</th>\n",
       "      <th>raised_amount_usd</th>\n",
       "      <th>primary_sector</th>\n",
       "      <th>main_sector</th>\n",
       "    </tr>\n",
       "  </thead>\n",
       "  <tbody>\n",
       "    <tr>\n",
       "      <th>0</th>\n",
       "      <td>/organization/-fame</td>\n",
       "      <td>#fame</td>\n",
       "      <td>http://livfame.com</td>\n",
       "      <td>Media</td>\n",
       "      <td>operating</td>\n",
       "      <td>IND</td>\n",
       "      <td>16</td>\n",
       "      <td>Mumbai</td>\n",
       "      <td>Mumbai</td>\n",
       "      <td>NaN</td>\n",
       "      <td>/funding-round/9a01d05418af9f794eebff7ace91f638</td>\n",
       "      <td>venture</td>\n",
       "      <td>B</td>\n",
       "      <td>05-01-2015</td>\n",
       "      <td>10000000.0</td>\n",
       "      <td>Media</td>\n",
       "      <td>Entertainment</td>\n",
       "    </tr>\n",
       "    <tr>\n",
       "      <th>222</th>\n",
       "      <td>/organization/ameyo</td>\n",
       "      <td>Ameyo</td>\n",
       "      <td>http://www.ameyo.com/</td>\n",
       "      <td>Software</td>\n",
       "      <td>operating</td>\n",
       "      <td>IND</td>\n",
       "      <td>10</td>\n",
       "      <td>New Delhi</td>\n",
       "      <td>Gurgaon</td>\n",
       "      <td>01-01-2003</td>\n",
       "      <td>/funding-round/81b50a403d5d2293715fe9b0ce4db5d3</td>\n",
       "      <td>venture</td>\n",
       "      <td>A</td>\n",
       "      <td>03-07-2015</td>\n",
       "      <td>5000000.0</td>\n",
       "      <td>Software</td>\n",
       "      <td>Others</td>\n",
       "    </tr>\n",
       "    <tr>\n",
       "      <th>250</th>\n",
       "      <td>/organization/applabs</td>\n",
       "      <td>AppLabs</td>\n",
       "      <td>http://www.applabs.com</td>\n",
       "      <td>Software</td>\n",
       "      <td>acquired</td>\n",
       "      <td>IND</td>\n",
       "      <td>2</td>\n",
       "      <td>Hyderabad</td>\n",
       "      <td>Hyderabad</td>\n",
       "      <td>01-01-2001</td>\n",
       "      <td>/funding-round/29152fc812013ef482c93f6dd47f58ff</td>\n",
       "      <td>venture</td>\n",
       "      <td>NaN</td>\n",
       "      <td>29-06-2006</td>\n",
       "      <td>10000000.0</td>\n",
       "      <td>Software</td>\n",
       "      <td>Others</td>\n",
       "    </tr>\n",
       "    <tr>\n",
       "      <th>262</th>\n",
       "      <td>/organization/appsdaily-solutions</td>\n",
       "      <td>Appsdaily Solutions</td>\n",
       "      <td>http://appsdailyworld.com/daily/index.jsp</td>\n",
       "      <td>Software</td>\n",
       "      <td>operating</td>\n",
       "      <td>IND</td>\n",
       "      <td>16</td>\n",
       "      <td>Mumbai</td>\n",
       "      <td>Mumbai</td>\n",
       "      <td>01-01-2008</td>\n",
       "      <td>/funding-round/4979e1bb00ddc452753682273fd4466c</td>\n",
       "      <td>venture</td>\n",
       "      <td>B</td>\n",
       "      <td>10-04-2014</td>\n",
       "      <td>5000000.0</td>\n",
       "      <td>Software</td>\n",
       "      <td>Others</td>\n",
       "    </tr>\n",
       "    <tr>\n",
       "      <th>558</th>\n",
       "      <td>/organization/canvera-digital-technologies</td>\n",
       "      <td>Canvera Digital Technologies</td>\n",
       "      <td>http://canvera.com</td>\n",
       "      <td>Software</td>\n",
       "      <td>operating</td>\n",
       "      <td>IND</td>\n",
       "      <td>19</td>\n",
       "      <td>Bangalore</td>\n",
       "      <td>Bangalore</td>\n",
       "      <td>01-01-2007</td>\n",
       "      <td>/funding-round/26650720abe4be67bb6550fd4ee6d063</td>\n",
       "      <td>venture</td>\n",
       "      <td>NaN</td>\n",
       "      <td>29-08-2012</td>\n",
       "      <td>6500000.0</td>\n",
       "      <td>Software</td>\n",
       "      <td>Others</td>\n",
       "    </tr>\n",
       "  </tbody>\n",
       "</table>\n",
       "</div>"
      ],
      "text/plain": [
       "                                      permalink                          name  \\\n",
       "0                           /organization/-fame                         #fame   \n",
       "222                         /organization/ameyo                         Ameyo   \n",
       "250                       /organization/applabs                       AppLabs   \n",
       "262           /organization/appsdaily-solutions           Appsdaily Solutions   \n",
       "558  /organization/canvera-digital-technologies  Canvera Digital Technologies   \n",
       "\n",
       "                                  homepage_url category_list     status  \\\n",
       "0                           http://livfame.com         Media  operating   \n",
       "222                      http://www.ameyo.com/      Software  operating   \n",
       "250                     http://www.applabs.com      Software   acquired   \n",
       "262  http://appsdailyworld.com/daily/index.jsp      Software  operating   \n",
       "558                         http://canvera.com      Software  operating   \n",
       "\n",
       "    country_code state_code     region       city  founded_at  \\\n",
       "0            IND         16     Mumbai     Mumbai         NaN   \n",
       "222          IND         10  New Delhi    Gurgaon  01-01-2003   \n",
       "250          IND          2  Hyderabad  Hyderabad  01-01-2001   \n",
       "262          IND         16     Mumbai     Mumbai  01-01-2008   \n",
       "558          IND         19  Bangalore  Bangalore  01-01-2007   \n",
       "\n",
       "                             funding_round_permalink funding_round_type  \\\n",
       "0    /funding-round/9a01d05418af9f794eebff7ace91f638            venture   \n",
       "222  /funding-round/81b50a403d5d2293715fe9b0ce4db5d3            venture   \n",
       "250  /funding-round/29152fc812013ef482c93f6dd47f58ff            venture   \n",
       "262  /funding-round/4979e1bb00ddc452753682273fd4466c            venture   \n",
       "558  /funding-round/26650720abe4be67bb6550fd4ee6d063            venture   \n",
       "\n",
       "    funding_round_code   funded_at  raised_amount_usd primary_sector  \\\n",
       "0                    B  05-01-2015         10000000.0          Media   \n",
       "222                  A  03-07-2015          5000000.0       Software   \n",
       "250                NaN  29-06-2006         10000000.0       Software   \n",
       "262                  B  10-04-2014          5000000.0       Software   \n",
       "558                NaN  29-08-2012          6500000.0       Software   \n",
       "\n",
       "       main_sector  \n",
       "0    Entertainment  \n",
       "222         Others  \n",
       "250         Others  \n",
       "262         Others  \n",
       "558         Others  "
      ]
     },
     "execution_count": 420,
     "metadata": {},
     "output_type": "execute_result"
    }
   ],
   "source": [
    "df2.head()"
   ]
  },
  {
   "cell_type": "code",
   "execution_count": 421,
   "id": "56c6e557",
   "metadata": {},
   "outputs": [],
   "source": [
    "df3 =merged_2[(merged_2['country_code'] == 'GBR')&(merged_2['raised_amount_usd']>=5000000)&(merged_2['raised_amount_usd']<=15000000)]"
   ]
  },
  {
   "cell_type": "code",
   "execution_count": 422,
   "id": "b979c1ec",
   "metadata": {},
   "outputs": [
    {
     "data": {
      "text/html": [
       "<div>\n",
       "<style scoped>\n",
       "    .dataframe tbody tr th:only-of-type {\n",
       "        vertical-align: middle;\n",
       "    }\n",
       "\n",
       "    .dataframe tbody tr th {\n",
       "        vertical-align: top;\n",
       "    }\n",
       "\n",
       "    .dataframe thead th {\n",
       "        text-align: right;\n",
       "    }\n",
       "</style>\n",
       "<table border=\"1\" class=\"dataframe\">\n",
       "  <thead>\n",
       "    <tr style=\"text-align: right;\">\n",
       "      <th></th>\n",
       "      <th>permalink</th>\n",
       "      <th>name</th>\n",
       "      <th>homepage_url</th>\n",
       "      <th>category_list</th>\n",
       "      <th>status</th>\n",
       "      <th>country_code</th>\n",
       "      <th>state_code</th>\n",
       "      <th>region</th>\n",
       "      <th>city</th>\n",
       "      <th>founded_at</th>\n",
       "      <th>funding_round_permalink</th>\n",
       "      <th>funding_round_type</th>\n",
       "      <th>funding_round_code</th>\n",
       "      <th>funded_at</th>\n",
       "      <th>raised_amount_usd</th>\n",
       "      <th>primary_sector</th>\n",
       "      <th>main_sector</th>\n",
       "    </tr>\n",
       "  </thead>\n",
       "  <tbody>\n",
       "    <tr>\n",
       "      <th>1</th>\n",
       "      <td>/organization/90min</td>\n",
       "      <td>90min</td>\n",
       "      <td>http://www.90min.com</td>\n",
       "      <td>Media|News|Publishing|Soccer|Sports</td>\n",
       "      <td>operating</td>\n",
       "      <td>GBR</td>\n",
       "      <td>H9</td>\n",
       "      <td>London</td>\n",
       "      <td>London</td>\n",
       "      <td>01-01-2011</td>\n",
       "      <td>/funding-round/21a2cbf6f2fb2a1c2a61e04bf930dfe6</td>\n",
       "      <td>venture</td>\n",
       "      <td>NaN</td>\n",
       "      <td>06-10-2015</td>\n",
       "      <td>15000000.0</td>\n",
       "      <td>Media</td>\n",
       "      <td>Entertainment</td>\n",
       "    </tr>\n",
       "    <tr>\n",
       "      <th>2</th>\n",
       "      <td>/organization/90min</td>\n",
       "      <td>90min</td>\n",
       "      <td>http://www.90min.com</td>\n",
       "      <td>Media|News|Publishing|Soccer|Sports</td>\n",
       "      <td>operating</td>\n",
       "      <td>GBR</td>\n",
       "      <td>H9</td>\n",
       "      <td>London</td>\n",
       "      <td>London</td>\n",
       "      <td>01-01-2011</td>\n",
       "      <td>/funding-round/bd626ed022f5c66574b1afe234f3c90d</td>\n",
       "      <td>venture</td>\n",
       "      <td>NaN</td>\n",
       "      <td>07-05-2013</td>\n",
       "      <td>5800000.0</td>\n",
       "      <td>Media</td>\n",
       "      <td>Entertainment</td>\n",
       "    </tr>\n",
       "    <tr>\n",
       "      <th>49</th>\n",
       "      <td>/organization/common-interest-communities</td>\n",
       "      <td>Common Interest Communities</td>\n",
       "      <td>http://commoninterestcommunities.com/</td>\n",
       "      <td>Application Platforms|Internet|Software|Startups</td>\n",
       "      <td>operating</td>\n",
       "      <td>GBR</td>\n",
       "      <td>H9</td>\n",
       "      <td>London</td>\n",
       "      <td>London</td>\n",
       "      <td>NaN</td>\n",
       "      <td>/funding-round/8195587cbd5e51af7514ee92ef4ba6ba</td>\n",
       "      <td>venture</td>\n",
       "      <td>NaN</td>\n",
       "      <td>09-07-2014</td>\n",
       "      <td>10000000.0</td>\n",
       "      <td>Application Platforms</td>\n",
       "      <td>News, Search and Messaging</td>\n",
       "    </tr>\n",
       "    <tr>\n",
       "      <th>55</th>\n",
       "      <td>/organization/geospock-ltd-</td>\n",
       "      <td>GeoSpock Ltd.</td>\n",
       "      <td>http://www.geospock.com</td>\n",
       "      <td>Application Platforms|Databases|Real Time</td>\n",
       "      <td>operating</td>\n",
       "      <td>GBR</td>\n",
       "      <td>C3</td>\n",
       "      <td>London</td>\n",
       "      <td>Cambridge</td>\n",
       "      <td>01-01-2013</td>\n",
       "      <td>/funding-round/cf3fe3b7c86186b9f478d0ea37613f7a</td>\n",
       "      <td>venture</td>\n",
       "      <td>NaN</td>\n",
       "      <td>01-10-2014</td>\n",
       "      <td>5460000.0</td>\n",
       "      <td>Application Platforms</td>\n",
       "      <td>News, Search and Messaging</td>\n",
       "    </tr>\n",
       "    <tr>\n",
       "      <th>56</th>\n",
       "      <td>/organization/geospock-ltd-</td>\n",
       "      <td>GeoSpock Ltd.</td>\n",
       "      <td>http://www.geospock.com</td>\n",
       "      <td>Application Platforms|Databases|Real Time</td>\n",
       "      <td>operating</td>\n",
       "      <td>GBR</td>\n",
       "      <td>C3</td>\n",
       "      <td>London</td>\n",
       "      <td>Cambridge</td>\n",
       "      <td>01-01-2013</td>\n",
       "      <td>/funding-round/e5e4ef4ebae63fc36ef0cd57dd20ff1c</td>\n",
       "      <td>venture</td>\n",
       "      <td>A</td>\n",
       "      <td>05-10-2015</td>\n",
       "      <td>5400000.0</td>\n",
       "      <td>Application Platforms</td>\n",
       "      <td>News, Search and Messaging</td>\n",
       "    </tr>\n",
       "  </tbody>\n",
       "</table>\n",
       "</div>"
      ],
      "text/plain": [
       "                                    permalink                         name  \\\n",
       "1                         /organization/90min                        90min   \n",
       "2                         /organization/90min                        90min   \n",
       "49  /organization/common-interest-communities  Common Interest Communities   \n",
       "55                /organization/geospock-ltd-                GeoSpock Ltd.   \n",
       "56                /organization/geospock-ltd-                GeoSpock Ltd.   \n",
       "\n",
       "                             homepage_url  \\\n",
       "1                    http://www.90min.com   \n",
       "2                    http://www.90min.com   \n",
       "49  http://commoninterestcommunities.com/   \n",
       "55                http://www.geospock.com   \n",
       "56                http://www.geospock.com   \n",
       "\n",
       "                                       category_list     status country_code  \\\n",
       "1                Media|News|Publishing|Soccer|Sports  operating          GBR   \n",
       "2                Media|News|Publishing|Soccer|Sports  operating          GBR   \n",
       "49  Application Platforms|Internet|Software|Startups  operating          GBR   \n",
       "55         Application Platforms|Databases|Real Time  operating          GBR   \n",
       "56         Application Platforms|Databases|Real Time  operating          GBR   \n",
       "\n",
       "   state_code  region       city  founded_at  \\\n",
       "1          H9  London     London  01-01-2011   \n",
       "2          H9  London     London  01-01-2011   \n",
       "49         H9  London     London         NaN   \n",
       "55         C3  London  Cambridge  01-01-2013   \n",
       "56         C3  London  Cambridge  01-01-2013   \n",
       "\n",
       "                            funding_round_permalink funding_round_type  \\\n",
       "1   /funding-round/21a2cbf6f2fb2a1c2a61e04bf930dfe6            venture   \n",
       "2   /funding-round/bd626ed022f5c66574b1afe234f3c90d            venture   \n",
       "49  /funding-round/8195587cbd5e51af7514ee92ef4ba6ba            venture   \n",
       "55  /funding-round/cf3fe3b7c86186b9f478d0ea37613f7a            venture   \n",
       "56  /funding-round/e5e4ef4ebae63fc36ef0cd57dd20ff1c            venture   \n",
       "\n",
       "   funding_round_code   funded_at  raised_amount_usd         primary_sector  \\\n",
       "1                 NaN  06-10-2015         15000000.0                  Media   \n",
       "2                 NaN  07-05-2013          5800000.0                  Media   \n",
       "49                NaN  09-07-2014         10000000.0  Application Platforms   \n",
       "55                NaN  01-10-2014          5460000.0  Application Platforms   \n",
       "56                  A  05-10-2015          5400000.0  Application Platforms   \n",
       "\n",
       "                   main_sector  \n",
       "1                Entertainment  \n",
       "2                Entertainment  \n",
       "49  News, Search and Messaging  \n",
       "55  News, Search and Messaging  \n",
       "56  News, Search and Messaging  "
      ]
     },
     "execution_count": 422,
     "metadata": {},
     "output_type": "execute_result"
    }
   ],
   "source": [
    "df3.head()"
   ]
  },
  {
   "cell_type": "code",
   "execution_count": null,
   "id": "0a6ea95e",
   "metadata": {},
   "outputs": [],
   "source": []
  },
  {
   "cell_type": "markdown",
   "id": "a1459eb3",
   "metadata": {},
   "source": [
    "top 5 sectors from the main_sector category that are invested the most in top 3 countires"
   ]
  },
  {
   "cell_type": "code",
   "execution_count": 423,
   "id": "0bf8dfae",
   "metadata": {},
   "outputs": [
    {
     "data": {
      "text/plain": [
       "main_sector\n",
       "Others                                     2732\n",
       "Cleantech / Semiconductors                 2145\n",
       "Social, Finance, Analytics, Advertising    1813\n",
       "News, Search and Messaging                 1445\n",
       "Name: raised_amount_usd, dtype: int64"
      ]
     },
     "execution_count": 423,
     "metadata": {},
     "output_type": "execute_result"
    }
   ],
   "source": [
    "a = df1.groupby(['main_sector'])['raised_amount_usd'].count().sort_values(ascending = False).head(4)\n",
    "\n",
    "a\n"
   ]
  },
  {
   "cell_type": "code",
   "execution_count": 424,
   "id": "b2ef7b46",
   "metadata": {},
   "outputs": [],
   "source": [
    "b= df2.groupby(['main_sector'])['raised_amount_usd'].count().sort_values(ascending = False).head(4)"
   ]
  },
  {
   "cell_type": "code",
   "execution_count": 425,
   "id": "db875d2d",
   "metadata": {},
   "outputs": [],
   "source": [
    "c = df3.groupby(['main_sector'])['raised_amount_usd'].count().sort_values(ascending = False).head(4)"
   ]
  },
  {
   "cell_type": "code",
   "execution_count": 426,
   "id": "00c18a41",
   "metadata": {},
   "outputs": [
    {
     "data": {
      "text/plain": [
       "main_sector\n",
       "Others                                     137\n",
       "Cleantech / Semiconductors                 114\n",
       "Social, Finance, Analytics, Advertising     95\n",
       "News, Search and Messaging                  66\n",
       "Name: raised_amount_usd, dtype: int64"
      ]
     },
     "execution_count": 426,
     "metadata": {},
     "output_type": "execute_result"
    }
   ],
   "source": [
    "df3.groupby(['main_sector'])['raised_amount_usd'].count().sort_values(ascending = False).head(4)"
   ]
  },
  {
   "cell_type": "code",
   "execution_count": 427,
   "id": "07fdd759",
   "metadata": {},
   "outputs": [
    {
     "name": "stdout",
     "output_type": "stream",
     "text": [
      "name\n",
      "Virtustream    64300000.0\n",
      "Name: raised_amount_usd, dtype: float64\n",
      "name\n",
      "Intacct    61800000.0\n",
      "Name: raised_amount_usd, dtype: float64\n"
     ]
    }
   ],
   "source": [
    "print(df1[df1['main_sector'] == 'Others'].groupby('name')['raised_amount_usd'].sum().sort_values(ascending = False).head(1))\n",
    "\n",
    "\n",
    "\n",
    "print(df1[df1['main_sector'] == 'Social, Finance, Analytics, Advertising'].groupby('name')['raised_amount_usd'].sum().sort_values(ascending = False).head(1))"
   ]
  },
  {
   "cell_type": "code",
   "execution_count": 428,
   "id": "97c20d01",
   "metadata": {},
   "outputs": [
    {
     "name": "stdout",
     "output_type": "stream",
     "text": [
      "name\n",
      "FirstCry.com    39000000.0\n",
      "Name: raised_amount_usd, dtype: float64\n",
      "name\n",
      "Akosha    5000000.0\n",
      "Name: raised_amount_usd, dtype: float64\n"
     ]
    }
   ],
   "source": [
    "print(df2[df2['main_sector'] == 'Others'].groupby('name')['raised_amount_usd'].sum().sort_values(ascending = False).head(1))\n",
    "\n",
    "\n",
    "print(df2[df2['main_sector'] == 'Social, Finance, Analytics, Advertising'].groupby('name')['raised_amount_usd'].sum().sort_values().head(1))"
   ]
  },
  {
   "cell_type": "code",
   "execution_count": 429,
   "id": "e0de2d72",
   "metadata": {},
   "outputs": [
    {
     "name": "stdout",
     "output_type": "stream",
     "text": [
      "name\n",
      "Virtustream    64300000.0\n",
      "Name: raised_amount_usd, dtype: float64\n",
      "name\n",
      "MOO.COM    5000000.0\n",
      "Name: raised_amount_usd, dtype: float64\n"
     ]
    }
   ],
   "source": [
    "print(df1[df1['main_sector'] == 'Others'].groupby('name')['raised_amount_usd'].sum().sort_values(ascending  =False).head(1))\n",
    "      \n",
    "\n",
    "\n",
    "print(df3[df3['main_sector'] == 'Social, Finance, Analytics, Advertising'].groupby('name')['raised_amount_usd'].sum().sort_values().head(1))"
   ]
  },
  {
   "cell_type": "code",
   "execution_count": 430,
   "id": "de998051",
   "metadata": {},
   "outputs": [
    {
     "name": "stdout",
     "output_type": "stream",
     "text": [
      "name\n",
      "Electric Cloud    37000000.0\n",
      "Name: raised_amount_usd, dtype: float64\n",
      "name\n",
      "Celltick Technologies    37500000.0\n",
      "Name: raised_amount_usd, dtype: float64\n"
     ]
    }
   ],
   "source": [
    "\n",
    "print(df3[df3['main_sector'] == 'Others'].groupby('name')['raised_amount_usd'].sum().sort_values(ascending = False).head(1))\n",
    "\n",
    "print(df3[df3['main_sector'] == 'Social, Finance, Analytics, Advertising'].groupby('name')['raised_amount_usd'].sum().sort_values(ascending = False).head(1))\n"
   ]
  },
  {
   "cell_type": "code",
   "execution_count": 431,
   "id": "c9c51063",
   "metadata": {},
   "outputs": [
    {
     "data": {
      "text/html": [
       "<div>\n",
       "<style scoped>\n",
       "    .dataframe tbody tr th:only-of-type {\n",
       "        vertical-align: middle;\n",
       "    }\n",
       "\n",
       "    .dataframe tbody tr th {\n",
       "        vertical-align: top;\n",
       "    }\n",
       "\n",
       "    .dataframe thead th {\n",
       "        text-align: right;\n",
       "    }\n",
       "</style>\n",
       "<table border=\"1\" class=\"dataframe\">\n",
       "  <thead>\n",
       "    <tr style=\"text-align: right;\">\n",
       "      <th></th>\n",
       "      <th>Trend in USA</th>\n",
       "      <th>Trend in IND</th>\n",
       "      <th>Trend in GBR</th>\n",
       "    </tr>\n",
       "    <tr>\n",
       "      <th>main_sector</th>\n",
       "      <th></th>\n",
       "      <th></th>\n",
       "      <th></th>\n",
       "    </tr>\n",
       "  </thead>\n",
       "  <tbody>\n",
       "    <tr>\n",
       "      <th>Cleantech / Semiconductors</th>\n",
       "      <td>2145.0</td>\n",
       "      <td>NaN</td>\n",
       "      <td>114.0</td>\n",
       "    </tr>\n",
       "    <tr>\n",
       "      <th>Entertainment</th>\n",
       "      <td>NaN</td>\n",
       "      <td>32.0</td>\n",
       "      <td>NaN</td>\n",
       "    </tr>\n",
       "    <tr>\n",
       "      <th>News, Search and Messaging</th>\n",
       "      <td>1445.0</td>\n",
       "      <td>49.0</td>\n",
       "      <td>66.0</td>\n",
       "    </tr>\n",
       "    <tr>\n",
       "      <th>Others</th>\n",
       "      <td>2732.0</td>\n",
       "      <td>102.0</td>\n",
       "      <td>137.0</td>\n",
       "    </tr>\n",
       "    <tr>\n",
       "      <th>Social, Finance, Analytics, Advertising</th>\n",
       "      <td>1813.0</td>\n",
       "      <td>32.0</td>\n",
       "      <td>95.0</td>\n",
       "    </tr>\n",
       "  </tbody>\n",
       "</table>\n",
       "</div>"
      ],
      "text/plain": [
       "                                         Trend in USA  Trend in IND  \\\n",
       "main_sector                                                           \n",
       "Cleantech / Semiconductors                     2145.0           NaN   \n",
       "Entertainment                                     NaN          32.0   \n",
       "News, Search and Messaging                     1445.0          49.0   \n",
       "Others                                         2732.0         102.0   \n",
       "Social, Finance, Analytics, Advertising        1813.0          32.0   \n",
       "\n",
       "                                         Trend in GBR  \n",
       "main_sector                                            \n",
       "Cleantech / Semiconductors                      114.0  \n",
       "Entertainment                                     NaN  \n",
       "News, Search and Messaging                       66.0  \n",
       "Others                                          137.0  \n",
       "Social, Finance, Analytics, Advertising          95.0  "
      ]
     },
     "execution_count": 431,
     "metadata": {},
     "output_type": "execute_result"
    }
   ],
   "source": [
    "df_main_sector = pd.DataFrame({'Trend in USA':a,'Trend in IND':b,'Trend in GBR':c})\n",
    "df_main_sector"
   ]
  },
  {
   "cell_type": "code",
   "execution_count": 432,
   "id": "7c29de2a",
   "metadata": {},
   "outputs": [
    {
     "data": {
      "text/html": [
       "<div>\n",
       "<style scoped>\n",
       "    .dataframe tbody tr th:only-of-type {\n",
       "        vertical-align: middle;\n",
       "    }\n",
       "\n",
       "    .dataframe tbody tr th {\n",
       "        vertical-align: top;\n",
       "    }\n",
       "\n",
       "    .dataframe thead th {\n",
       "        text-align: right;\n",
       "    }\n",
       "</style>\n",
       "<table border=\"1\" class=\"dataframe\">\n",
       "  <thead>\n",
       "    <tr style=\"text-align: right;\">\n",
       "      <th></th>\n",
       "      <th>main_sector</th>\n",
       "      <th>raised_amount_usd</th>\n",
       "      <th>country_code</th>\n",
       "    </tr>\n",
       "  </thead>\n",
       "  <tbody>\n",
       "    <tr>\n",
       "      <th>0</th>\n",
       "      <td>Others</td>\n",
       "      <td>2.441447e+10</td>\n",
       "      <td>USA</td>\n",
       "    </tr>\n",
       "    <tr>\n",
       "      <th>1</th>\n",
       "      <td>Cleantech / Semiconductors</td>\n",
       "      <td>1.972990e+10</td>\n",
       "      <td>USA</td>\n",
       "    </tr>\n",
       "    <tr>\n",
       "      <th>2</th>\n",
       "      <td>Social, Finance, Analytics, Advertising</td>\n",
       "      <td>1.590572e+10</td>\n",
       "      <td>USA</td>\n",
       "    </tr>\n",
       "    <tr>\n",
       "      <th>3</th>\n",
       "      <td>News, Search and Messaging</td>\n",
       "      <td>1.281416e+10</td>\n",
       "      <td>USA</td>\n",
       "    </tr>\n",
       "  </tbody>\n",
       "</table>\n",
       "</div>"
      ],
      "text/plain": [
       "                               main_sector  raised_amount_usd country_code\n",
       "0                                   Others       2.441447e+10          USA\n",
       "1               Cleantech / Semiconductors       1.972990e+10          USA\n",
       "2  Social, Finance, Analytics, Advertising       1.590572e+10          USA\n",
       "3               News, Search and Messaging       1.281416e+10          USA"
      ]
     },
     "execution_count": 432,
     "metadata": {},
     "output_type": "execute_result"
    }
   ],
   "source": [
    "USA = df1.groupby(['main_sector'])['raised_amount_usd'].sum().sort_values(ascending = False).head(4)\n",
    "USA = USA.reset_index()\n",
    "USA['country_code'] = 'USA'\n",
    "USA"
   ]
  },
  {
   "cell_type": "code",
   "execution_count": 433,
   "id": "0d647e7f",
   "metadata": {},
   "outputs": [
    {
     "data": {
      "text/html": [
       "<div>\n",
       "<style scoped>\n",
       "    .dataframe tbody tr th:only-of-type {\n",
       "        vertical-align: middle;\n",
       "    }\n",
       "\n",
       "    .dataframe tbody tr th {\n",
       "        vertical-align: top;\n",
       "    }\n",
       "\n",
       "    .dataframe thead th {\n",
       "        text-align: right;\n",
       "    }\n",
       "</style>\n",
       "<table border=\"1\" class=\"dataframe\">\n",
       "  <thead>\n",
       "    <tr style=\"text-align: right;\">\n",
       "      <th></th>\n",
       "      <th>main_sector</th>\n",
       "      <th>raised_amount_usd</th>\n",
       "      <th>country_code</th>\n",
       "    </tr>\n",
       "  </thead>\n",
       "  <tbody>\n",
       "    <tr>\n",
       "      <th>0</th>\n",
       "      <td>Others</td>\n",
       "      <td>934289507.0</td>\n",
       "      <td>GBR</td>\n",
       "    </tr>\n",
       "    <tr>\n",
       "      <th>1</th>\n",
       "      <td>News, Search and Messaging</td>\n",
       "      <td>408834545.0</td>\n",
       "      <td>GBR</td>\n",
       "    </tr>\n",
       "    <tr>\n",
       "      <th>2</th>\n",
       "      <td>Social, Finance, Analytics, Advertising</td>\n",
       "      <td>290543500.0</td>\n",
       "      <td>GBR</td>\n",
       "    </tr>\n",
       "    <tr>\n",
       "      <th>3</th>\n",
       "      <td>Entertainment</td>\n",
       "      <td>272080000.0</td>\n",
       "      <td>GBR</td>\n",
       "    </tr>\n",
       "  </tbody>\n",
       "</table>\n",
       "</div>"
      ],
      "text/plain": [
       "                               main_sector  raised_amount_usd country_code\n",
       "0                                   Others        934289507.0          GBR\n",
       "1               News, Search and Messaging        408834545.0          GBR\n",
       "2  Social, Finance, Analytics, Advertising        290543500.0          GBR\n",
       "3                            Entertainment        272080000.0          GBR"
      ]
     },
     "execution_count": 433,
     "metadata": {},
     "output_type": "execute_result"
    }
   ],
   "source": [
    "GBR = df2.groupby(['main_sector'])['raised_amount_usd'].sum().sort_values(ascending = False).head(4)\n",
    "GBR = GBR.reset_index()\n",
    "GBR['country_code'] = 'GBR'\n",
    "GBR"
   ]
  },
  {
   "cell_type": "code",
   "execution_count": 434,
   "id": "5b03e1cc",
   "metadata": {
    "scrolled": true
   },
   "outputs": [
    {
     "data": {
      "text/html": [
       "<div>\n",
       "<style scoped>\n",
       "    .dataframe tbody tr th:only-of-type {\n",
       "        vertical-align: middle;\n",
       "    }\n",
       "\n",
       "    .dataframe tbody tr th {\n",
       "        vertical-align: top;\n",
       "    }\n",
       "\n",
       "    .dataframe thead th {\n",
       "        text-align: right;\n",
       "    }\n",
       "</style>\n",
       "<table border=\"1\" class=\"dataframe\">\n",
       "  <thead>\n",
       "    <tr style=\"text-align: right;\">\n",
       "      <th></th>\n",
       "      <th>index</th>\n",
       "      <th>main_sector</th>\n",
       "      <th>raised_amount_usd</th>\n",
       "      <th>country_code</th>\n",
       "    </tr>\n",
       "  </thead>\n",
       "  <tbody>\n",
       "    <tr>\n",
       "      <th>0</th>\n",
       "      <td>0</td>\n",
       "      <td>Others</td>\n",
       "      <td>934289507.0</td>\n",
       "      <td>IND</td>\n",
       "    </tr>\n",
       "    <tr>\n",
       "      <th>1</th>\n",
       "      <td>1</td>\n",
       "      <td>News, Search and Messaging</td>\n",
       "      <td>408834545.0</td>\n",
       "      <td>IND</td>\n",
       "    </tr>\n",
       "    <tr>\n",
       "      <th>2</th>\n",
       "      <td>2</td>\n",
       "      <td>Social, Finance, Analytics, Advertising</td>\n",
       "      <td>290543500.0</td>\n",
       "      <td>IND</td>\n",
       "    </tr>\n",
       "    <tr>\n",
       "      <th>3</th>\n",
       "      <td>3</td>\n",
       "      <td>Entertainment</td>\n",
       "      <td>272080000.0</td>\n",
       "      <td>IND</td>\n",
       "    </tr>\n",
       "  </tbody>\n",
       "</table>\n",
       "</div>"
      ],
      "text/plain": [
       "   index                              main_sector  raised_amount_usd  \\\n",
       "0      0                                   Others        934289507.0   \n",
       "1      1               News, Search and Messaging        408834545.0   \n",
       "2      2  Social, Finance, Analytics, Advertising        290543500.0   \n",
       "3      3                            Entertainment        272080000.0   \n",
       "\n",
       "  country_code  \n",
       "0          IND  \n",
       "1          IND  \n",
       "2          IND  \n",
       "3          IND  "
      ]
     },
     "execution_count": 434,
     "metadata": {},
     "output_type": "execute_result"
    }
   ],
   "source": [
    "IND = df2.groupby(['main_sector'])['raised_amount_usd'].sum().sort_values(ascending = False).head(4)\n",
    "IND = GBR.reset_index()\n",
    "IND['country_code'] = 'IND'\n",
    "IND"
   ]
  },
  {
   "cell_type": "code",
   "execution_count": 435,
   "id": "e9ffc350",
   "metadata": {},
   "outputs": [
    {
     "data": {
      "text/html": [
       "<div>\n",
       "<style scoped>\n",
       "    .dataframe tbody tr th:only-of-type {\n",
       "        vertical-align: middle;\n",
       "    }\n",
       "\n",
       "    .dataframe tbody tr th {\n",
       "        vertical-align: top;\n",
       "    }\n",
       "\n",
       "    .dataframe thead th {\n",
       "        text-align: right;\n",
       "    }\n",
       "</style>\n",
       "<table border=\"1\" class=\"dataframe\">\n",
       "  <thead>\n",
       "    <tr style=\"text-align: right;\">\n",
       "      <th></th>\n",
       "      <th>main_sector</th>\n",
       "      <th>raised_amount_usd</th>\n",
       "      <th>country_code</th>\n",
       "      <th>index</th>\n",
       "    </tr>\n",
       "  </thead>\n",
       "  <tbody>\n",
       "    <tr>\n",
       "      <th>0</th>\n",
       "      <td>Others</td>\n",
       "      <td>2.441447e+10</td>\n",
       "      <td>USA</td>\n",
       "      <td>NaN</td>\n",
       "    </tr>\n",
       "    <tr>\n",
       "      <th>1</th>\n",
       "      <td>Cleantech / Semiconductors</td>\n",
       "      <td>1.972990e+10</td>\n",
       "      <td>USA</td>\n",
       "      <td>NaN</td>\n",
       "    </tr>\n",
       "    <tr>\n",
       "      <th>2</th>\n",
       "      <td>Social, Finance, Analytics, Advertising</td>\n",
       "      <td>1.590572e+10</td>\n",
       "      <td>USA</td>\n",
       "      <td>NaN</td>\n",
       "    </tr>\n",
       "    <tr>\n",
       "      <th>3</th>\n",
       "      <td>News, Search and Messaging</td>\n",
       "      <td>1.281416e+10</td>\n",
       "      <td>USA</td>\n",
       "      <td>NaN</td>\n",
       "    </tr>\n",
       "    <tr>\n",
       "      <th>0</th>\n",
       "      <td>Others</td>\n",
       "      <td>9.342895e+08</td>\n",
       "      <td>GBR</td>\n",
       "      <td>NaN</td>\n",
       "    </tr>\n",
       "    <tr>\n",
       "      <th>1</th>\n",
       "      <td>News, Search and Messaging</td>\n",
       "      <td>4.088345e+08</td>\n",
       "      <td>GBR</td>\n",
       "      <td>NaN</td>\n",
       "    </tr>\n",
       "    <tr>\n",
       "      <th>2</th>\n",
       "      <td>Social, Finance, Analytics, Advertising</td>\n",
       "      <td>2.905435e+08</td>\n",
       "      <td>GBR</td>\n",
       "      <td>NaN</td>\n",
       "    </tr>\n",
       "    <tr>\n",
       "      <th>3</th>\n",
       "      <td>Entertainment</td>\n",
       "      <td>2.720800e+08</td>\n",
       "      <td>GBR</td>\n",
       "      <td>NaN</td>\n",
       "    </tr>\n",
       "    <tr>\n",
       "      <th>0</th>\n",
       "      <td>Others</td>\n",
       "      <td>9.342895e+08</td>\n",
       "      <td>IND</td>\n",
       "      <td>0.0</td>\n",
       "    </tr>\n",
       "    <tr>\n",
       "      <th>1</th>\n",
       "      <td>News, Search and Messaging</td>\n",
       "      <td>4.088345e+08</td>\n",
       "      <td>IND</td>\n",
       "      <td>1.0</td>\n",
       "    </tr>\n",
       "    <tr>\n",
       "      <th>2</th>\n",
       "      <td>Social, Finance, Analytics, Advertising</td>\n",
       "      <td>2.905435e+08</td>\n",
       "      <td>IND</td>\n",
       "      <td>2.0</td>\n",
       "    </tr>\n",
       "    <tr>\n",
       "      <th>3</th>\n",
       "      <td>Entertainment</td>\n",
       "      <td>2.720800e+08</td>\n",
       "      <td>IND</td>\n",
       "      <td>3.0</td>\n",
       "    </tr>\n",
       "  </tbody>\n",
       "</table>\n",
       "</div>"
      ],
      "text/plain": [
       "                               main_sector  raised_amount_usd country_code  \\\n",
       "0                                   Others       2.441447e+10          USA   \n",
       "1               Cleantech / Semiconductors       1.972990e+10          USA   \n",
       "2  Social, Finance, Analytics, Advertising       1.590572e+10          USA   \n",
       "3               News, Search and Messaging       1.281416e+10          USA   \n",
       "0                                   Others       9.342895e+08          GBR   \n",
       "1               News, Search and Messaging       4.088345e+08          GBR   \n",
       "2  Social, Finance, Analytics, Advertising       2.905435e+08          GBR   \n",
       "3                            Entertainment       2.720800e+08          GBR   \n",
       "0                                   Others       9.342895e+08          IND   \n",
       "1               News, Search and Messaging       4.088345e+08          IND   \n",
       "2  Social, Finance, Analytics, Advertising       2.905435e+08          IND   \n",
       "3                            Entertainment       2.720800e+08          IND   \n",
       "\n",
       "   index  \n",
       "0    NaN  \n",
       "1    NaN  \n",
       "2    NaN  \n",
       "3    NaN  \n",
       "0    NaN  \n",
       "1    NaN  \n",
       "2    NaN  \n",
       "3    NaN  \n",
       "0    0.0  \n",
       "1    1.0  \n",
       "2    2.0  \n",
       "3    3.0  "
      ]
     },
     "execution_count": 435,
     "metadata": {},
     "output_type": "execute_result"
    }
   ],
   "source": [
    "over_all_comparision = pd.concat([USA,GBR,IND])\n",
    "over_all_comparision"
   ]
  },
  {
   "cell_type": "code",
   "execution_count": 436,
   "id": "fc85b0ca",
   "metadata": {},
   "outputs": [
    {
     "data": {
      "image/png": "[encoded data removed]",
      "text/plain": [
       "<Figure size 432x288 with 1 Axes>"
      ]
     },
     "metadata": {
      "needs_background": "light"
     },
     "output_type": "display_data"
    }
   ],
   "source": [
    "sns.barplot(x='country_code',y='raised_amount_usd',hue='main_sector',data=over_all_comparision)\n",
    "plt.show()\n"
   ]
  },
  {
   "cell_type": "markdown",
   "id": "758f191d",
   "metadata": {},
   "source": [
    "OBSERVATIONS\n",
    "1.Most of the investments in the range 5 million to 15 million happend in the category of venture funding\n",
    "2.top 3 english speaking countries based on their total investments are USA, Great Britan and India\n",
    "3.Most of the investment that is happening in these top 3 countries are happening in the sector 'others' i.e nothing is specified about those sectors.\n",
    "\n",
    "Based on the above analysis spark funds can understand to focus on which type of funding, sector and the countyr to get the best ROI."
   ]
  },
  {
   "cell_type": "code",
   "execution_count": null,
   "id": "01fb7244",
   "metadata": {},
   "outputs": [],
   "source": []
  },
  {
   "cell_type": "code",
   "execution_count": null,
   "id": "89597c70",
   "metadata": {},
   "outputs": [],
   "source": []
  },
  {
   "cell_type": "code",
   "execution_count": null,
   "id": "ac89499a",
   "metadata": {},
   "outputs": [],
   "source": []
  },
  {
   "cell_type": "code",
   "execution_count": null,
   "id": "95617451",
   "metadata": {},
   "outputs": [],
   "source": []
  },
  {
   "cell_type": "code",
   "execution_count": null,
   "id": "47c33d94",
   "metadata": {},
   "outputs": [],
   "source": []
  },
  {
   "cell_type": "code",
   "execution_count": null,
   "id": "4ca0cbfc",
   "metadata": {},
   "outputs": [],
   "source": []
  },
  {
   "cell_type": "code",
   "execution_count": null,
   "id": "0f2c96a3",
   "metadata": {},
   "outputs": [],
   "source": []
  },
  {
   "cell_type": "code",
   "execution_count": null,
   "id": "87c32f1b",
   "metadata": {},
   "outputs": [],
   "source": []
  },
  {
   "cell_type": "code",
   "execution_count": null,
   "id": "23bb638f",
   "metadata": {},
   "outputs": [],
   "source": []
  }
 ],
 "metadata": {
  "kernelspec": {
   "display_name": "Python 3 (ipykernel)",
   "language": "python",
   "name": "python3"
  },
  "language_info": {
   "codemirror_mode": {
    "name": "ipython",
    "version": 3
   },
   "file_extension": ".py",
   "mimetype": "text/x-python",
   "name": "python",
   "nbconvert_exporter": "python",
   "pygments_lexer": "ipython3",
   "version": "3.9.7"
  }
 },
 "nbformat": 4,
 "nbformat_minor": 5
}
